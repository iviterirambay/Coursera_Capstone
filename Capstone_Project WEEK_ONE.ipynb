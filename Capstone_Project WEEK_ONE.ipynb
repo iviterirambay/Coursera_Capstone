{
  "nbformat": 4,
  "nbformat_minor": 0,
  "metadata": {
    "colab": {
      "name": "Capstone_Project.ipynb",
      "provenance": [],
      "toc_visible": true,
      "authorship_tag": "ABX9TyP2JIiTNoHtzpK9XmefTMCL",
      "include_colab_link": true
    },
    "kernelspec": {
      "name": "python3",
      "display_name": "Python 3"
    }
  },
  "cells": [
    {
      "cell_type": "markdown",
      "metadata": {
        "id": "view-in-github",
        "colab_type": "text"
      },
      "source": [
        "<a href=\"https://colab.research.google.com/github/iviterirambay/Coursera_Capstone/blob/master/Capstone_Project%20WEEK_ONE.ipynb\" target=\"_parent\"><img src=\"https://colab.research.google.com/assets/colab-badge.svg\" alt=\"Open In Colab\"/></a>"
      ]
    },
    {
      "cell_type": "markdown",
      "metadata": {
        "id": "nSN7bXRqAylH"
      },
      "source": [
        "# IBM Applied Data Science Capstone Project"
      ]
    },
    {
      "cell_type": "markdown",
      "metadata": {
        "id": "LFelEzs-CD-y"
      },
      "source": [
        "This capstone project will be graded by your peers. This capstone project is worth 70% of your total grade. The project will be completed over the course of 2 weeks. Week 1 submissions will be worth 30% whereas week 2 submissions will be worth 40% of your total grade."
      ]
    },
    {
      "cell_type": "markdown",
      "metadata": {
        "id": "ku80YxN8Bm-n"
      },
      "source": [
        "# **WEEK ONE**"
      ]
    },
    {
      "cell_type": "markdown",
      "metadata": {
        "id": "gZx2jvV1Bk9L"
      },
      "source": [
        "## 1.- A description of the problem and a discussion of the background. (15 marks)"
      ]
    },
    {
      "cell_type": "markdown",
      "metadata": {
        "id": "6yMqhBf5Exgc"
      },
      "source": [
        "**Business Understanding**\n",
        "Road traffic accidents are a major source of human and economic hardship in most advanced\n",
        "economies, with consequences which can range from minor property/vehicular damage, to\n",
        "major damage, personal injury or death. It is estimated that road traffic accidents cost the\n",
        "United States’ economy ∼ $810 billion per year, including costs due to property damage,\n",
        "legal costs and associated medical bills. It is therefore of paramount importance that\n",
        "we understand the factors influencing the likelihood of a road traffic accident occuring at a\n",
        "given location, as well as those which influence the severity of those accidents that do occur.\n",
        "Intuitively, we might expect that some of the factors which influence the likelihood and\n",
        "severity of a road traffic accident include: the weather, local road contitions (i.e. highways,\n",
        "urban areas or rural roads), time of day (and the presence or absence of street lights),\n",
        "and the number and type of vehicles in the area. Additional factors which may influence\n",
        "the frequency and severity of road traffic accidents include those which can be traced to\n",
        "individual irresponsibility, such as driving under the influence of alcohol/narcotics, driving\n",
        "without due care and attention or driving at excessive speed. While it is intuitive that a\n",
        "combination of these factors may be important, intuition alone cannot determine the relative\n",
        "significance of these factors, which is required in order fully understand the causes of road\n",
        "traffic accidents and devise new strategies to minimise their occurrance and severity.\n",
        "The target audience for this work will be city planners and emergency service responders: it is hoped that by understanding the factors influencing the frequency and severity of\n",
        "accidents, it will be possible to improve the design of the road network and better prepare\n",
        "for how to deal with accidents when they unfortunatley arise.\n"
      ]
    },
    {
      "cell_type": "markdown",
      "metadata": {
        "id": "l7_I54M1CQmK"
      },
      "source": [
        "## 2.- A description of the data and how it will be used to solve the problem. (15 marks)"
      ]
    },
    {
      "cell_type": "markdown",
      "metadata": {
        "id": "lBUvgcRiFFes"
      },
      "source": [
        "**Data Understanding**\n",
        "I will use the Cross-Industry Standard Process for Data Mining (CRISP-DM) in order to\n",
        "quantify the impact of these factors on the frequency and severity of car accidents. I will build\n",
        "and test Machine Learning models using data for 221,006 road traffic accidents in the Seattle\n",
        "municipal area between 2004–2020, recorded by Seattle Department of Transport (SDOT)\n",
        "and obtained from the Seattle Open Data Portal. Note that these data\n",
        "were obtained from the Seattle Open Data Portal directly, and that the dataset\n",
        "differs in number of rows and columns from the example dataset provided in the\n",
        "IBM Data Science Capstone introduction. Moreover, the severitycode target\n",
        "variable takes on one of five discrete values, rather than the binary options\n",
        "presented in the test dataset.\n",
        "The data can be downloaded in Comma Separated Value (CSV) format and read in to a\n",
        "Pandas Dataframe using the Pandas read_csv function, and the contents and data types\n",
        "displayed using the head and dtypes functions. A Jupyter Notebook containing the code\n",
        "for exploring of the dataset, along with data cleaning, model building and model evaluation\n",
        "will be submitted and published on GitHub in next week’s submission.\n",
        "The target/dependent variable is severitycode which, in its default form, takes the values 0, 1, 2, 2b or 3. The definitions of these severity codes are provided in the “Attribute Information” metadata which accompany the data release and are given:\n",
        "\n",
        "    |-------------------------------------------|\n",
        "    |        Severity Code Meaning              |\n",
        "    |----------------|--------------------------|\n",
        "    |         0      |       Unknown            |\n",
        "    |----------------|--------------------------|\n",
        "    |         1      |    Property Damage       |\n",
        "    |----------------|--------------------------|\n",
        "    |         2      |    Injury (Minor)        |\n",
        "    |----------------|--------------------------|\n",
        "    |         2b     |    Injury (Serious)      |\n",
        "    |----------------|--------------------------|\n",
        "    |         3      |        Fatality          |\n",
        "    |----------------|--------------------------|\n",
        "\n",
        "Note that only 4 rows and 12 columns are visible on the screenshot; the remaining 21 rows and 28 colums are visible within the Notebook using scroll bars. We see that some columns contain duplicate/redundant data (inckey,\n",
        "coldetkey), while others contain categorical (addrtype) or no data (exceptrsncode). Cleaning of the data will be essential before meaningful analysis and modelling can be undertaken.\n",
        "\n",
        "**Data Preparation**\n",
        "In its original form, this dataset is not suitable for quantitative analysis. There are three key reasons for this:\n",
        "1. The dataset contains columns which are superfluous (i.e. they contain information\n",
        "which is unrelated to the causes or severity of accidents) or are redundant (i.e. they\n",
        "largely replicate information which is already present in other columns). Examples\n",
        "of superfluous columns include objectid, inckey and coldetkey, which all identify the accident records with respect to other data held by SDOT which are not included in this dataset. Examples of redundant columns include severitydesc (which\n",
        "provides a textual description of the accompanying severitycode) and sdot_colcode/sdot_coldesc (which replicate the information that is in the st_colcode\n",
        "column).\n",
        "2. The dataset contains categorical data, e.g. weather, which takes one of eleven categorical values, or roadcond which describes road conditions and takes one of eight\n",
        "categorical values. Machine learning models require numerical data, not categorical\n",
        "data. For this reason it will also be necessary to re-cast the accident severity scale\n",
        "such that it is strictly numerical: 0, 1, 2, 2b, 3 → 0, 1, 2, 3, 4.\n",
        "3. The dataset contains missing entries, where one or more of the key predictor variables\n",
        "are absent or uninformative (e.g. 6.8% of accidents have “Unknown” listed in the\n",
        "weather column). Including these data entries in the model is likely to increase noise.\n",
        "In some cases, the target variable itself is not in a usable form (4.25% of accidents have\n",
        "severitycode “Unknown”). We see that some dependent variables are categorical (of type\n",
        "object), whereas they need to be numerical for most Machine Leaning approaches to work. We will use\n",
        "one-hot encoding to recast each of these categorical variables as a series of numerical variables, with values\n",
        "0 or 1.\n",
        "4. The numerical data are imbalanced (there are ∼ 345× as many accidents with severitycode=1 as there are accidents with severitycode=3) and are not well normalised\n",
        "(e.g. after one-hot encoding many of the categorical variables will be assigned binary\n",
        "values 0/1, whereas the latitude, X and longitude, Y of the accident location are in\n",
        "decimal degrees, and typically cluster around X = −122.33, Y = 47.61)\n",
        "In order to use this dataset to build and evaluate a Machine Learning model for predicting accident severity it will be necessary to clean the data using the following standard\n",
        "techniques: (i) discarding rows which are missing crucial data; (ii) discarding columns which\n",
        "contain unnecessary/redundant data; (iii) use of one-hot encoding to create numerical data\n",
        "from categorical variables; (iv) data balancing using downsampling techniques; (v) feature\n",
        "scaling using scikitlearn’s standardscaler function.\n",
        "\n",
        "**Modelling, Evaluation and Deployment** (a forward look)\n",
        "After cleaning the data I will split the data in to testing (30%) and training (70%) subsamples\n",
        "using train_test_split, and will then build the following three models for evaluation:\n",
        "1. K-Nearest Neighbour (KNN): this model will attempt to predict the severity of the\n",
        "accident in the test dataset based on the severity of the K accidents whose preceding\n",
        "conditions are most similar in the training dataset.\n",
        "2. Decision Tree: this model will build a decision tree by splitting and branching the\n",
        "data on all the possible values of every attribute in the dataset in order to determine\n",
        "the most predictive features in the dataset. The decision tree will then be used to\n",
        "predict the severity of an accident in the test dataset based on the values of those\n",
        "predictive features.\n",
        "3. Support Vector Machine (SVM): the target variable severitycode is not binary\n",
        "in this dataset, and therefore is not suited to logistic regression techniques. Instead,\n",
        "SVM will be used to map the training data to a multi-dimensional space (allowing\n",
        "hyperplanes to be fit which cleanly separate accidents with different severitycodes),\n",
        "and then these hyperplanes will be used to predict the severitycode of accidents in\n",
        "the test dataset, given the values of its independent variables.\n",
        "Having built these three models I will then evaluate them using the F1 and Jaccard\n",
        "Similarity scores in order to identify the best model.\n",
        "It is hoped that the best-performing model would then be suitable for deployment and\n",
        "capable of providing useful results to guide the decision-making of town planning authorities\n",
        "and emergency service responders in order to reduce the frequency of accidents and lessen\n",
        "their severity."
      ]
    },
    {
      "cell_type": "markdown",
      "metadata": {
        "id": "hbqlG397B2qO"
      },
      "source": [
        "# **WEEK TWO**"
      ]
    },
    {
      "cell_type": "markdown",
      "metadata": {
        "id": "wP3t4iNZCZuH"
      },
      "source": [
        "## 1.- A link to your Notebook on your Github repository, showing your code. (15 marks)"
      ]
    },
    {
      "cell_type": "markdown",
      "metadata": {
        "id": "X0LKJFXwClhn"
      },
      "source": [
        "## 2.- A full report consisting of all of the following components (15 marks):"
      ]
    },
    {
      "cell_type": "markdown",
      "metadata": {
        "id": "secqJDcnCzRO"
      },
      "source": [
        "Introduction where you discuss the business problem and who would be interested in this project."
      ]
    },
    {
      "cell_type": "markdown",
      "metadata": {
        "id": "FPzM9VTCDVCk"
      },
      "source": [
        "Data where you describe the data that will be used to solve the problem and the source of the data."
      ]
    },
    {
      "cell_type": "markdown",
      "metadata": {
        "id": "gcUuLfbEC-KA"
      },
      "source": [
        "Methodology section which represents the main component of the report where you discuss and describe any exploratory data analysis that you did, any inferential statistical testing that you performed, if any, and what machine learnings were used and why.\n"
      ]
    },
    {
      "cell_type": "markdown",
      "metadata": {
        "id": "7UH0faOQDGDY"
      },
      "source": [
        "Results section where you discuss the results.\n"
      ]
    },
    {
      "cell_type": "markdown",
      "metadata": {
        "id": "nTA1UnKiDJN5"
      },
      "source": [
        "Discussion section where you discuss any observations you noted and any recommendations you can make based on the results.\n"
      ]
    },
    {
      "cell_type": "markdown",
      "metadata": {
        "id": "q6MjE5cODOKc"
      },
      "source": [
        "Conclusion section where you conclude the report.\n"
      ]
    },
    {
      "cell_type": "markdown",
      "metadata": {
        "id": "SRq2qht_C4Yg"
      },
      "source": [
        "### 3.- Your choice of a presentation or blogpost. (10 marks)"
      ]
    },
    {
      "cell_type": "code",
      "metadata": {
        "id": "IAin0STXD8jW"
      },
      "source": [
        ""
      ],
      "execution_count": null,
      "outputs": []
    }
  ]
}